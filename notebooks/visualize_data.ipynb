{
 "cells": [
  {
   "cell_type": "code",
   "execution_count": null,
   "metadata": {},
   "outputs": [],
   "source": [
    "import plotly.graph_objs as go\n",
    "import numpy as np\n",
    "\n",
    "\"\"\"Visualizaiton functions do the scatter plots in plotly since it seems to be more efficient.\"\"\"\n",
    "\n",
    "\n",
    "def get_plotly_scatter_plot(\n",
    "    data_in: np.ndarray,\n",
    "    lat_mat: np.ndarray,\n",
    "    factor: int = 5,\n",
    "    logcolor: bool = False,\n",
    "    mask: np.ndarray = None,\n",
    "    opacity: float = 0.5,\n",
    "    marker_size: int = 5,\n",
    ") -> go.Figure:\n",
    "    \"\"\"\n",
    "    Returns a plotly fig object for plotting.\n",
    "    Args:\n",
    "        data_in: Structured grid data to be plotted\n",
    "        lat_mat: Lattice vectors of the cell\n",
    "        factor: reduction factor of the grid points for plotting, only show [::factor] in each direction\n",
    "        logcolor: If True, assign the color in log scale\n",
    "        mask: Filter the points to plot\n",
    "        opacity: opacity of each point being plotted\n",
    "        marker_size: size of the markers in the 3D scatter plot\n",
    "\n",
    "    Returns:\n",
    "        plotly Figure object\n",
    "\n",
    "    \"\"\"\n",
    "    ndim = len(data_in.shape)\n",
    "    if ndim > 3:\n",
    "        raise NotImplementedError(\"Can only render data of 1, 2, or 3 dimensions.\")\n",
    "\n",
    "    ss = slice(0, None, factor)\n",
    "    trimmed_data = np.real(data_in).copy()\n",
    "    trimmed_data = trimmed_data[(ss, ) * ndim]\n",
    "\n",
    "    if mask is not None:\n",
    "        flat_mask = mask[(ss, ) * ndim].flatten()\n",
    "    else:\n",
    "        flat_mask = np.ones_like(trimmed_data, dtype=bool).flatten()\n",
    "\n",
    "    vecs = [np.linspace(0, 1, trimmed_data.shape[0], endpoint=False) for _ in range(ndim)]\n",
    "    gridded = np.meshgrid(*vecs, indexing=\"ij\")  # indexing to match the labeled array\n",
    "    res = np.dot(lat_mat.T, [g_.flatten() for g_ in gridded])\n",
    "\n",
    "    if logcolor:\n",
    "        cc = np.log(trimmed_data.flatten())\n",
    "    else:\n",
    "        cc = trimmed_data.flatten()\n",
    "\n",
    "    xx = res[0, flat_mask]\n",
    "    if ndim > 1:\n",
    "        yy = res[1, flat_mask]\n",
    "    if ndim > 2:\n",
    "        zz = res[2, flat_mask]\n",
    "    \n",
    "    cc = cc[flat_mask]\n",
    "    if ndim == 1:\n",
    "        data = go.Scatter(\n",
    "            x=xx, y=cc,\n",
    "            mode=\"markers\",\n",
    "            marker=dict(\n",
    "                size=marker_size,\n",
    "                color=\"red\",\n",
    "            ),\n",
    "        )\n",
    "    if ndim == 2:\n",
    "        data = go.Scatter(\n",
    "            x=xx,y=yy,\n",
    "            mode=\"markers\",\n",
    "            marker=dict(\n",
    "                size=marker_size,\n",
    "                color=cc,  # set color to an array/list of desired values\n",
    "                colorscale=\"Viridis\",  # choose a colorscale\n",
    "                opacity=opacity,\n",
    "            ),\n",
    "        )\n",
    "    if ndim == 3:\n",
    "        data = go.Scatter3d(\n",
    "            x=xx,y=yy,z=zz,\n",
    "            mode=\"markers\",\n",
    "            marker=dict(\n",
    "                size=marker_size,\n",
    "                color=cc,\n",
    "                colorscale=\"Viridis\",\n",
    "                opacity=opacity,\n",
    "            ),\n",
    "        )\n",
    "    fig = go.Figure(\n",
    "        data=[data]\n",
    "    )\n",
    "\n",
    "    # fig.update_layout(margin=dict(l=0, r=0, b=0, t=0))\n",
    "    if ndim>=2:\n",
    "        fig.update_layout(width=800, height=800,\n",
    "                        template=\"plotly_white\",yaxis=dict(scaleanchor=\"x\", scaleratio=1),\n",
    "                     )\n",
    "    if ndim==3:\n",
    "        fig.update_layout(scene_aspectmode='data')\n",
    "    return fig\n"
   ]
  },
  {
   "cell_type": "code",
   "execution_count": null,
   "metadata": {},
   "outputs": [],
   "source": [
    "get_plotly_scatter_plot(pg_2D.grid_data, pg_2D.lattice)"
   ]
  },
  {
   "cell_type": "code",
   "execution_count": null,
   "metadata": {},
   "outputs": [],
   "source": [
    "get_plotly_scatter_plot(chgcar.grid_data, chgcar.lattice)"
   ]
  },
  {
   "cell_type": "code",
   "execution_count": null,
   "metadata": {},
   "outputs": [],
   "source": [
    "get_plotly_scatter_plot(pg_2D.grid_data, pg_2D.lattice)"
   ]
  },
  {
   "cell_type": "code",
   "execution_count": null,
   "metadata": {},
   "outputs": [],
   "source": [
    "\n",
    "x = np.arange(1,11)\n",
    "y1 = np.exp(x)\n",
    "y2 = np.log(x)\n",
    "trace1 = go.Scatter(\n",
    "   x = x,\n",
    "   y = y1,\n",
    "   name = 'exp'\n",
    ")\n",
    "trace2 = go.Scatter(\n",
    "   x = x,\n",
    "   y = y2,\n",
    "   name = 'log',\n",
    "   yaxis = 'y2'\n",
    ")\n",
    "data = [trace1, trace2]\n",
    "layout = go.Layout(\n",
    "   title = 'Double Y Axis Example',\n",
    "   yaxis = dict(\n",
    "      title = 'exp',zeroline=True,\n",
    "      showline = True\n",
    "   ),\n",
    "   yaxis2 = dict(\n",
    "      title = 'log',\n",
    "      zeroline = True,\n",
    "      showline = True,\n",
    "      overlaying = 'y',\n",
    "      side = 'right'\n",
    "   )\n",
    ")\n",
    "\n",
    "\n",
    "fig = go.Figure(data=data, layout=layout)\n",
    "fig.show()"
   ]
  },
  {
   "cell_type": "code",
   "execution_count": null,
   "metadata": {},
   "outputs": [],
   "source": []
  },
  {
   "cell_type": "code",
   "execution_count": null,
   "metadata": {},
   "outputs": [],
   "source": []
  },
  {
   "cell_type": "code",
   "execution_count": null,
   "metadata": {},
   "outputs": [],
   "source": [
    "from pyrho.core.chargeDensity import ChargeDensity\n",
    "from pymatgen.io.vasp import Chgcar\n",
    "from pyrho.core.pgrid import PGrid\n",
    "from pyrho.core.utils import get_padded_array\n",
    "from pyrho.core.fourier import PFourier\n",
    "\n",
    "chgcar = Chgcar.from_hdf5(\"../test_files/Si.uc.hdf5\")\n",
    "chgcar = ChargeDensity.from_pmg_volumetric_data(chgcar)\n",
    "chgcar.reorient_axis()\n",
    "\n",
    "a_mat = chgcar.lattice[:2,:2]\n",
    "data = chgcar.grid_data[24, :, :]\n",
    "\n",
    "pg_2D = PGrid(data, a_mat)"
   ]
  },
  {
   "cell_type": "code",
   "execution_count": null,
   "metadata": {},
   "outputs": [],
   "source": [
    "pg_2D.lattice"
   ]
  },
  {
   "cell_type": "code",
   "execution_count": null,
   "metadata": {},
   "outputs": [],
   "source": [
    "data_in = pg_2D.grid_data"
   ]
  },
  {
   "cell_type": "code",
   "execution_count": null,
   "metadata": {},
   "outputs": [],
   "source": [
    "ndim = len(data_in.shape)\n",
    "if ndim > 3:\n",
    "    raise NotImplementedError(\"Can only render data of 1, 2, or 3 dimensions.\")\n",
    "\n",
    "ss = slice(0, None, 4)\n",
    "trimmed_data = np.real(data_in).copy()\n",
    "all_slices = (ss, ) * ndim\n",
    "trimmed_data = trimmed_data[all_slices]\n",
    "trimmed_data.shape"
   ]
  },
  {
   "cell_type": "code",
   "execution_count": null,
   "metadata": {},
   "outputs": [],
   "source": [
    "def show_2d(pg_2D):\n",
    "    av=np.linspace(0,1,pg_2D.grid_data.shape[0],endpoint=False)\n",
    "    bv=np.linspace(0,1,pg_2D.grid_data.shape[1],endpoint=False)\n",
    "    AA, BB = np.meshgrid(av,bv,indexing='ij') #indexing to match the lablled array\n",
    "    xx, yy = np.dot(pg_2D.lattice.T[:2,:2], [AA.flatten(),BB.flatten()])\n",
    "    xshift, yshift = np.dot(pg_2D.lattice.T[:2,:2], ((av[1]-av[0])/2.,(bv[1]-bv[0])/2.))\n",
    "    plt.scatter(xx+xshift, yy+yshift, c=np.log(pg_2D.grid_data.flatten()), edgecolors='black',alpha=0.1)\n",
    "show_2d(pg_2D)\n"
   ]
  },
  {
   "cell_type": "code",
   "execution_count": null,
   "metadata": {},
   "outputs": [],
   "source": [
    "fft_data = np.abs(np.fft.fftn(pg_2D.grid_data))\n",
    "pf = PFourier(fft_data, pg_2D.lattice)\n",
    "\n",
    "def show_2d_f(pf, thresh = 12):\n",
    "    av=np.linspace(0,1,pf.fourier_data.shape[0],endpoint=False)\n",
    "    bv=np.linspace(0,1,pf.fourier_data.shape[1],endpoint=False)\n",
    "\n",
    "    xx, yy = pf.fft_pos_centered_cartesian_s\n",
    "    mask = pf.fourier_data.flatten() > thresh\n",
    "    plt.scatter(xx[mask], yy[mask], c=pf.fourier_data.flatten()[mask], edgecolors='black',alpha=0.4)\n",
    "    plt.axes().set_aspect(\"equal\")\n"
   ]
  },
  {
   "cell_type": "code",
   "execution_count": null,
   "metadata": {},
   "outputs": [],
   "source": [
    "fft_data = np.abs(np.fft.fftn(pg_2D.grid_data))\n",
    "pf = PFourier(fft_data, pg_2D.lattice)\n",
    "show_2d_f(pf)"
   ]
  },
  {
   "cell_type": "code",
   "execution_count": null,
   "metadata": {},
   "outputs": [],
   "source": [
    "g1,g2 = pg_2D.grid_data.shape\n",
    "pg_super = pg_2D.get_transformed_obj(\n",
    "    sc_mat=[[1, 1], [1, -2]], frac_shift=[0, 0], grid_out=[g1*3 , g2*2 ], up_sample=2\n",
    ")\n",
    "show_2d(pg_super)\n"
   ]
  },
  {
   "cell_type": "code",
   "execution_count": null,
   "metadata": {},
   "outputs": [],
   "source": [
    "fft_data_super = np.abs(np.fft.fftn(pg_super.grid_data))\n",
    "pf_super = PFourier(fft_data_super, pg_super.lattice)\n"
   ]
  },
  {
   "cell_type": "code",
   "execution_count": null,
   "metadata": {},
   "outputs": [],
   "source": [
    "pg_2D.lattice"
   ]
  },
  {
   "cell_type": "code",
   "execution_count": null,
   "metadata": {},
   "outputs": [],
   "source": [
    "show_2d_f(pf_super, thresh = 3*9)"
   ]
  },
  {
   "cell_type": "code",
   "execution_count": null,
   "metadata": {},
   "outputs": [],
   "source": [
    "show_2d_f(pf, thresh = 3)"
   ]
  },
  {
   "cell_type": "code",
   "execution_count": null,
   "metadata": {},
   "outputs": [],
   "source": []
  },
  {
   "cell_type": "code",
   "execution_count": null,
   "metadata": {},
   "outputs": [],
   "source": []
  }
 ],
 "metadata": {
  "kernelspec": {
   "display_name": "Python 3",
   "language": "python",
   "name": "python3"
  },
  "language_info": {
   "codemirror_mode": {
    "name": "ipython",
    "version": 3
   },
   "file_extension": ".py",
   "mimetype": "text/x-python",
   "name": "python",
   "nbconvert_exporter": "python",
   "pygments_lexer": "ipython3",
   "version": "3.8.6"
  }
 },
 "nbformat": 4,
 "nbformat_minor": 4
}
